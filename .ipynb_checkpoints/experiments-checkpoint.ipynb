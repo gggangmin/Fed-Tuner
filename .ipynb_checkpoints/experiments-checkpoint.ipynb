{
 "cells": [
  {
   "cell_type": "code",
   "execution_count": 59,
   "metadata": {
    "execution": {
     "iopub.execute_input": "2021-10-09T00:37:03.209413Z",
     "iopub.status.busy": "2021-10-09T00:37:03.208893Z",
     "iopub.status.idle": "2021-10-09T00:37:04.729931Z",
     "shell.execute_reply": "2021-10-09T00:37:04.730297Z"
    },
    "id": "dzLKpmZICaWN"
   },
   "outputs": [
    {
     "name": "stdout",
     "output_type": "stream",
     "text": [
      "2.8.0\n"
     ]
    }
   ],
   "source": [
    "# TensorFlow and tf.keras\n",
    "import tensorflow as tf\n",
    "\n",
    "# Helper libraries\n",
    "import numpy as np\n",
    "import matplotlib.pyplot as plt\n",
    "\n",
    "np.random.seed(1)\n",
    "tf.set_random_seed(2)\n",
    "\n",
    "print(tf.__version__)"
   ]
  },
  {
   "cell_type": "code",
   "execution_count": 60,
   "metadata": {
    "execution": {
     "iopub.execute_input": "2021-10-09T00:37:04.734895Z",
     "iopub.status.busy": "2021-10-09T00:37:04.734362Z",
     "iopub.status.idle": "2021-10-09T00:37:05.637249Z",
     "shell.execute_reply": "2021-10-09T00:37:05.636740Z"
    },
    "id": "7MqDQO0KCaWS"
   },
   "outputs": [],
   "source": [
    "fashion_mnist = tf.keras.datasets.fashion_mnist\n",
    "\n",
    "(train_images, train_labels), (test_images, test_labels) = fashion_mnist.load_data()"
   ]
  },
  {
   "cell_type": "code",
   "execution_count": 62,
   "metadata": {
    "execution": {
     "iopub.execute_input": "2021-10-09T00:37:05.854160Z",
     "iopub.status.busy": "2021-10-09T00:37:05.853630Z",
     "iopub.status.idle": "2021-10-09T00:37:05.998526Z",
     "shell.execute_reply": "2021-10-09T00:37:05.998008Z"
    },
    "id": "bW5WzIPlCaWv"
   },
   "outputs": [],
   "source": [
    "train_images = train_images / 255.0\n",
    "test_images = test_images / 255.0"
   ]
  },
  {
   "cell_type": "code",
   "execution_count": null,
   "metadata": {},
   "outputs": [],
   "source": [
    "original_datas=[[] for _ in range(10)]\n",
    "original_labels=[[] for _ in range(10)]\n",
    "\n",
    "for i in range(10):   \n",
    "    original_datas[i] = train_images[i*6000:(i+1)*6000]\n",
    "    original_labels[i] = train_labels[i*6000:(i+1)*6000]"
   ]
  },
  {
   "cell_type": "code",
   "execution_count": 63,
   "metadata": {},
   "outputs": [],
   "source": [
    "cl0 = []\n",
    "cl1 = []\n",
    "cl2 = []\n",
    "cl3 = []\n",
    "cl4 = []\n",
    "cl5 = []\n",
    "cl6 = []\n",
    "cl7 = []\n",
    "cl8 = []\n",
    "cl9 = []"
   ]
  },
  {
   "cell_type": "code",
   "execution_count": 64,
   "metadata": {},
   "outputs": [],
   "source": [
    "for i in range(len(train_labels)):\n",
    "    if train_labels[i]==0:\n",
    "        cl0.append(train_images[i])\n",
    "    elif train_labels[i]==1:\n",
    "        cl1.append(train_images[i])\n",
    "    elif train_labels[i]==2:\n",
    "        cl2.append(train_images[i])\n",
    "    elif train_labels[i]==3:\n",
    "        cl3.append(train_images[i])\n",
    "    elif train_labels[i]==4:\n",
    "        cl4.append(train_images[i])\n",
    "    elif train_labels[i]==5:\n",
    "        cl5.append(train_images[i])\n",
    "    elif train_labels[i]==6:\n",
    "        cl6.append(train_images[i])\n",
    "    elif train_labels[i]==7:\n",
    "        cl7.append(train_images[i])\n",
    "    elif train_labels[i]==8:\n",
    "        cl8.append(train_images[i])\n",
    "    elif train_labels[i]==9:\n",
    "        cl9.append(train_images[i])"
   ]
  },
  {
   "cell_type": "code",
   "execution_count": 65,
   "metadata": {},
   "outputs": [],
   "source": [
    "cl0 = np.array(cl0)\n",
    "cl1 = np.array(cl1)\n",
    "cl2 = np.array(cl2)\n",
    "cl3 = np.array(cl3)\n",
    "cl4 = np.array(cl4)\n",
    "cl5 = np.array(cl5)\n",
    "cl6 = np.array(cl6)\n",
    "cl7 = np.array(cl7)\n",
    "cl8 = np.array(cl8)\n",
    "cl9 = np.array(cl9)"
   ]
  },
  {
   "cell_type": "code",
   "execution_count": 66,
   "metadata": {
    "execution": {
     "iopub.execute_input": "2021-10-09T00:37:05.641741Z",
     "iopub.status.busy": "2021-10-09T00:37:05.641192Z",
     "iopub.status.idle": "2021-10-09T00:37:05.643058Z",
     "shell.execute_reply": "2021-10-09T00:37:05.642671Z"
    },
    "id": "IjnLH5S2CaWx"
   },
   "outputs": [],
   "source": [
    "class_names = ['T-shirt/top', 'Trouser', 'Pullover', 'Dress', 'Coat',\n",
    "               'Sandal', 'Shirt', 'Sneaker', 'Bag', 'Ankle boot']"
   ]
  },
  {
   "cell_type": "code",
   "execution_count": 4,
   "metadata": {
    "execution": {
     "iopub.execute_input": "2021-10-09T00:37:05.648800Z",
     "iopub.status.busy": "2021-10-09T00:37:05.648200Z",
     "iopub.status.idle": "2021-10-09T00:37:05.650659Z",
     "shell.execute_reply": "2021-10-09T00:37:05.651008Z"
    },
    "id": "zW5k_xz1CaWX"
   },
   "outputs": [
    {
     "data": {
      "text/plain": [
       "(60000, 28, 28)"
      ]
     },
     "execution_count": 4,
     "metadata": {},
     "output_type": "execute_result"
    }
   ],
   "source": [
    "train_images.shape"
   ]
  },
  {
   "cell_type": "code",
   "execution_count": 9,
   "metadata": {
    "execution": {
     "iopub.execute_input": "2021-10-09T00:37:05.668323Z",
     "iopub.status.busy": "2021-10-09T00:37:05.667776Z",
     "iopub.status.idle": "2021-10-09T00:37:05.670735Z",
     "shell.execute_reply": "2021-10-09T00:37:05.671052Z"
    },
    "id": "2KFnYlcwCaWl"
   },
   "outputs": [
    {
     "data": {
      "text/plain": [
       "(10000, 28, 28)"
      ]
     },
     "execution_count": 9,
     "metadata": {},
     "output_type": "execute_result"
    }
   ],
   "source": [
    "test_images.shape"
   ]
  },
  {
   "cell_type": "code",
   "execution_count": 67,
   "metadata": {
    "execution": {
     "iopub.execute_input": "2021-10-09T00:37:05.655028Z",
     "iopub.status.busy": "2021-10-09T00:37:05.654469Z",
     "iopub.status.idle": "2021-10-09T00:37:05.656993Z",
     "shell.execute_reply": "2021-10-09T00:37:05.657313Z"
    },
    "id": "TRFYHB2mCaWb"
   },
   "outputs": [
    {
     "data": {
      "text/plain": [
       "(6000, 28, 28)"
      ]
     },
     "execution_count": 67,
     "metadata": {},
     "output_type": "execute_result"
    }
   ],
   "source": [
    "cl5.shape"
   ]
  },
  {
   "cell_type": "code",
   "execution_count": 74,
   "metadata": {
    "execution": {
     "iopub.execute_input": "2021-10-09T00:37:06.077668Z",
     "iopub.status.busy": "2021-10-09T00:37:06.051526Z",
     "iopub.status.idle": "2021-10-09T00:37:06.852985Z",
     "shell.execute_reply": "2021-10-09T00:37:06.852546Z"
    },
    "id": "oZTImqg_CaW1"
   },
   "outputs": [
    {
     "data": {
      "image/png": "[encoded data removed]",
      "text/plain": [
       "<Figure size 720x720 with 25 Axes>"
      ]
     },
     "metadata": {},
     "output_type": "display_data"
    }
   ],
   "source": [
    "plt.figure(figsize=(10,10))\n",
    "for i in range(25):\n",
    "    plt.subplot(5,5,i+1)\n",
    "    plt.xticks([])\n",
    "    plt.yticks([])\n",
    "    plt.grid(False)\n",
    "    plt.imshow(cl7[i], cmap=plt.cm.binary)\n",
    "    plt.xlabel(class_names[7])\n",
    "plt.show()"
   ]
  },
  {
   "cell_type": "markdown",
   "metadata": {
    "id": "59veuiEZCaW4"
   },
   "source": [
    "## 모델 구성"
   ]
  },
  {
   "cell_type": "code",
   "execution_count": 77,
   "metadata": {},
   "outputs": [],
   "source": [
    "def build_model():\n",
    "    model = tf.keras.Sequential([\n",
    "    tf.keras.layers.Flatten(input_shape=(28, 28)),\n",
    "    tf.keras.layers.Dense(128, activation='relu'),\n",
    "    tf.keras.layers.Dense(10)\n",
    "    ])\n",
    "    return model"
   ]
  },
  {
   "cell_type": "code",
   "execution_count": 80,
   "metadata": {
    "execution": {
     "iopub.execute_input": "2021-10-09T00:37:06.858821Z",
     "iopub.status.busy": "2021-10-09T00:37:06.857327Z",
     "iopub.status.idle": "2021-10-09T00:37:08.396243Z",
     "shell.execute_reply": "2021-10-09T00:37:08.396719Z"
    },
    "id": "9ODch-OFCaW4"
   },
   "outputs": [],
   "source": [
    "model0 = build_model()\n",
    "model2 = build_model()\n",
    "model3 = build_model()\n",
    "model4 = build_model()\n",
    "model5 = build_model()\n",
    "model6 = build_model()\n",
    "model7 = build_model()\n",
    "model8 = build_model()\n",
    "model9 = build_model()"
   ]
  },
  {
   "cell_type": "code",
   "execution_count": 85,
   "metadata": {
    "execution": {
     "iopub.execute_input": "2021-10-09T00:37:08.405187Z",
     "iopub.status.busy": "2021-10-09T00:37:08.404649Z",
     "iopub.status.idle": "2021-10-09T00:37:08.412602Z",
     "shell.execute_reply": "2021-10-09T00:37:08.412174Z"
    },
    "id": "Lhan11blCaW7"
   },
   "outputs": [],
   "source": [
    "model0.compile(optimizer='adam',\n",
    "              loss=tf.keras.losses.SparseCategoricalCrossentropy(from_logits=True),\n",
    "              metrics=['accuracy'])\n",
    "model1.compile(optimizer='adam',\n",
    "              loss=tf.keras.losses.SparseCategoricalCrossentropy(from_logits=True),\n",
    "              metrics=['accuracy'])\n",
    "model2.compile(optimizer='adam',\n",
    "              loss=tf.keras.losses.SparseCategoricalCrossentropy(from_logits=True),\n",
    "              metrics=['accuracy'])\n",
    "model3.compile(optimizer='adam',\n",
    "              loss=tf.keras.losses.SparseCategoricalCrossentropy(from_logits=True),\n",
    "              metrics=['accuracy'])\n",
    "model4.compile(optimizer='adam',\n",
    "              loss=tf.keras.losses.SparseCategoricalCrossentropy(from_logits=True),\n",
    "              metrics=['accuracy'])\n",
    "model5.compile(optimizer='adam',\n",
    "              loss=tf.keras.losses.SparseCategoricalCrossentropy(from_logits=True),\n",
    "              metrics=['accuracy'])\n",
    "model6.compile(optimizer='adam',\n",
    "              loss=tf.keras.losses.SparseCategoricalCrossentropy(from_logits=True),\n",
    "              metrics=['accuracy'])\n",
    "model7.compile(optimizer='adam',\n",
    "              loss=tf.keras.losses.SparseCategoricalCrossentropy(from_logits=True),\n",
    "              metrics=['accuracy'])\n",
    "model8.compile(optimizer='adam',\n",
    "              loss=tf.keras.losses.SparseCategoricalCrossentropy(from_logits=True),\n",
    "              metrics=['accuracy'])\n",
    "model9.compile(optimizer='adam',\n",
    "              loss=tf.keras.losses.SparseCategoricalCrossentropy(from_logits=True),\n",
    "              metrics=['accuracy'])"
   ]
  },
  {
   "cell_type": "markdown",
   "metadata": {
    "id": "qKF6uW-BCaW-"
   },
   "source": [
    "## 모델 훈련"
   ]
  },
  {
   "cell_type": "code",
   "execution_count": 88,
   "metadata": {},
   "outputs": [],
   "source": [
    "# 클래스 별 데이터 양\n",
    "cl0_num_data = 900\n",
    "cl1_num_data = 900\n",
    "cl2_num_data = 900\n",
    "cl3_num_data = 900\n",
    "cl4_num_data = 900\n",
    "cl5_num_data = 900\n",
    "cl6_num_data = 900\n",
    "cl7_num_data = 900\n",
    "cl8_num_data = 900\n",
    "cl9_num_data = 900"
   ]
  },
  {
   "cell_type": "code",
   "execution_count": 92,
   "metadata": {
    "execution": {
     "iopub.execute_input": "2021-10-09T00:37:08.416634Z",
     "iopub.status.busy": "2021-10-09T00:37:08.416057Z",
     "iopub.status.idle": "2021-10-09T00:37:35.643885Z",
     "shell.execute_reply": "2021-10-09T00:37:35.644240Z"
    },
    "id": "xvwvpA64CaW_"
   },
   "outputs": [
    {
     "name": "stdout",
     "output_type": "stream",
     "text": [
      "Epoch 1/5\n",
      "WARNING:tensorflow:AutoGraph could not transform <function Model.make_train_function.<locals>.train_function at 0x7f4a644abb70> and will run it as-is.\n",
      "Please report this to the TensorFlow team. When filing the bug, set the verbosity to 10 (on Linux, `export AUTOGRAPH_VERBOSITY=10`) and attach the full output.\n",
      "Cause: 'arguments' object has no attribute 'posonlyargs'\n",
      "To silence this warning, decorate the function with @tf.autograph.experimental.do_not_convert\n",
      "WARNING: AutoGraph could not transform <function Model.make_train_function.<locals>.train_function at 0x7f4a644abb70> and will run it as-is.\n",
      "Please report this to the TensorFlow team. When filing the bug, set the verbosity to 10 (on Linux, `export AUTOGRAPH_VERBOSITY=10`) and attach the full output.\n",
      "Cause: 'arguments' object has no attribute 'posonlyargs'\n",
      "To silence this warning, decorate the function with @tf.autograph.experimental.do_not_convert\n",
      "29/29 [==============================] - 1s 2ms/step - loss: 0.1818 - accuracy: 0.9633\n",
      "Epoch 2/5\n",
      "29/29 [==============================] - 0s 2ms/step - loss: 0.0011 - accuracy: 1.0000\n",
      "Epoch 3/5\n",
      "29/29 [==============================] - 0s 2ms/step - loss: 5.4897e-04 - accuracy: 1.0000\n",
      "Epoch 4/5\n",
      "29/29 [==============================] - 0s 2ms/step - loss: 3.2681e-04 - accuracy: 1.0000\n",
      "Epoch 5/5\n",
      "29/29 [==============================] - 0s 2ms/step - loss: 2.0612e-04 - accuracy: 1.0000\n"
     ]
    },
    {
     "data": {
      "text/plain": [
       "<keras.callbacks.History at 0x7f4a5c07b080>"
      ]
     },
     "execution_count": 92,
     "metadata": {},
     "output_type": "execute_result"
    }
   ],
   "source": [
    "model0.fit(cl0[:cl0_num_data], np.array([0]*cl0_num_data), epochs=5)"
   ]
  },
  {
   "cell_type": "code",
   "execution_count": 93,
   "metadata": {},
   "outputs": [
    {
     "name": "stdout",
     "output_type": "stream",
     "text": [
      "Epoch 1/5\n",
      "WARNING:tensorflow:AutoGraph could not transform <function Model.make_train_function.<locals>.train_function at 0x7f4a60823e18> and will run it as-is.\n",
      "Please report this to the TensorFlow team. When filing the bug, set the verbosity to 10 (on Linux, `export AUTOGRAPH_VERBOSITY=10`) and attach the full output.\n",
      "Cause: 'arguments' object has no attribute 'posonlyargs'\n",
      "To silence this warning, decorate the function with @tf.autograph.experimental.do_not_convert\n",
      "WARNING: AutoGraph could not transform <function Model.make_train_function.<locals>.train_function at 0x7f4a60823e18> and will run it as-is.\n",
      "Please report this to the TensorFlow team. When filing the bug, set the verbosity to 10 (on Linux, `export AUTOGRAPH_VERBOSITY=10`) and attach the full output.\n",
      "Cause: 'arguments' object has no attribute 'posonlyargs'\n",
      "To silence this warning, decorate the function with @tf.autograph.experimental.do_not_convert\n",
      "29/29 [==============================] - 0s 2ms/step - loss: 0.1912 - accuracy: 0.9633\n",
      "Epoch 2/5\n",
      "29/29 [==============================] - 0s 2ms/step - loss: 2.0130e-04 - accuracy: 1.0000\n",
      "Epoch 3/5\n",
      "29/29 [==============================] - 0s 2ms/step - loss: 1.2593e-04 - accuracy: 1.0000\n",
      "Epoch 4/5\n",
      "29/29 [==============================] - 0s 2ms/step - loss: 9.0616e-05 - accuracy: 1.0000\n",
      "Epoch 5/5\n",
      "29/29 [==============================] - 0s 2ms/step - loss: 6.0877e-05 - accuracy: 1.0000\n"
     ]
    },
    {
     "data": {
      "text/plain": [
       "<keras.callbacks.History at 0x7f4a5cbcd6d8>"
      ]
     },
     "execution_count": 93,
     "metadata": {},
     "output_type": "execute_result"
    }
   ],
   "source": [
    "model1.fit(cl1[:cl1_num_data], np.array([1]*cl1_num_data), epochs=5)"
   ]
  },
  {
   "cell_type": "code",
   "execution_count": 94,
   "metadata": {},
   "outputs": [
    {
     "name": "stdout",
     "output_type": "stream",
     "text": [
      "Epoch 1/5\n",
      "WARNING:tensorflow:AutoGraph could not transform <function Model.make_train_function.<locals>.train_function at 0x7f4a5d0d2f28> and will run it as-is.\n",
      "Please report this to the TensorFlow team. When filing the bug, set the verbosity to 10 (on Linux, `export AUTOGRAPH_VERBOSITY=10`) and attach the full output.\n",
      "Cause: 'arguments' object has no attribute 'posonlyargs'\n",
      "To silence this warning, decorate the function with @tf.autograph.experimental.do_not_convert\n",
      "WARNING: AutoGraph could not transform <function Model.make_train_function.<locals>.train_function at 0x7f4a5d0d2f28> and will run it as-is.\n",
      "Please report this to the TensorFlow team. When filing the bug, set the verbosity to 10 (on Linux, `export AUTOGRAPH_VERBOSITY=10`) and attach the full output.\n",
      "Cause: 'arguments' object has no attribute 'posonlyargs'\n",
      "To silence this warning, decorate the function with @tf.autograph.experimental.do_not_convert\n",
      "29/29 [==============================] - 0s 2ms/step - loss: 0.1383 - accuracy: 0.9644 \n",
      "Epoch 2/5\n",
      "29/29 [==============================] - 0s 2ms/step - loss: 1.9231e-04 - accuracy: 1.0000\n",
      "Epoch 3/5\n",
      "29/29 [==============================] - 0s 2ms/step - loss: 8.9325e-05 - accuracy: 1.0000\n",
      "Epoch 4/5\n",
      "29/29 [==============================] - 0s 2ms/step - loss: 5.1866e-05 - accuracy: 1.0000\n",
      "Epoch 5/5\n",
      "29/29 [==============================] - 0s 2ms/step - loss: 2.8870e-05 - accuracy: 1.0000\n"
     ]
    },
    {
     "data": {
      "text/plain": [
       "<keras.callbacks.History at 0x7f4a604e0160>"
      ]
     },
     "execution_count": 94,
     "metadata": {},
     "output_type": "execute_result"
    }
   ],
   "source": [
    "model2.fit(cl2[:cl2_num_data], np.array([2]*cl2_num_data), epochs=5)"
   ]
  },
  {
   "cell_type": "code",
   "execution_count": 98,
   "metadata": {},
   "outputs": [
    {
     "name": "stdout",
     "output_type": "stream",
     "text": [
      "[<tf.Variable 'dense_23/kernel:0' shape=(128, 10) dtype=float32, numpy=\n",
      "array([[ 0.11310257,  0.00097394,  0.13095118, ..., -0.00826262,\n",
      "        -0.19585879,  0.18893771],\n",
      "       [ 0.05352689, -0.09427658, -0.05681348, ...,  0.20202865,\n",
      "         0.12072085, -0.19580247],\n",
      "       [-0.04837556, -0.20606108, -0.1240548 , ...,  0.02047409,\n",
      "        -0.08153263, -0.07068315],\n",
      "       ...,\n",
      "       [ 0.13567846, -0.13958228,  0.00725164, ...,  0.15429296,\n",
      "        -0.14261258,  0.12683369],\n",
      "       [ 0.04887672,  0.03681271, -0.00524928, ...,  0.20476241,\n",
      "         0.16609316, -0.16006511],\n",
      "       [ 0.05825548,  0.11911945, -0.04056564, ..., -0.03282879,\n",
      "         0.04303916,  0.13802628]], dtype=float32)>, <tf.Variable 'dense_23/bias:0' shape=(10,) dtype=float32, numpy=array([0., 0., 0., 0., 0., 0., 0., 0., 0., 0.], dtype=float32)>]\n"
     ]
    }
   ],
   "source": [
    "print(model3.layers[2].weights)"
   ]
  },
  {
   "cell_type": "code",
   "execution_count": 37,
   "metadata": {},
   "outputs": [
    {
     "name": "stdout",
     "output_type": "stream",
     "text": [
      "# TensorFlow and tf.keras\n",
      "import tensorflow as tf\n",
      "\n",
      "# Helper libraries\n",
      "import numpy as np\n",
      "import matplotlib.pyplot as plt\n",
      "\n",
      "\n",
      "np.random.seed(1)\n",
      "tf.set_random_seed(2)\n",
      "print(tf.__version__)\n",
      "fashion_mnist = tf.keras.datasets.fashion_mnist\n",
      "\n",
      "(train_images, train_labels), (test_images, test_labels) = fashion_mnist.load_data()\n",
      "train_images = train_images / 255.0\n",
      "test_images = test_images / 255.0\n",
      "original_datas=[[] for _ in range(10)]\n",
      "original_labels=[[] for _ in range(10)]\n",
      "\n",
      "for i in range(10):   \n",
      "    original_datas[i] = train_images[i*6000:(i+1)*6000]\n",
      "    original_labels[i] = train_labels[i*6000:(i+1)*6000]\n",
      "cl=[[] for _ in range(10)]\n",
      "for i in range(len(train_labels)):\n",
      "    cl[train_labels[i]].append(train_images[i])\n",
      "datas_ = []\n",
      "for i in range(10):\n",
      "    div =2\n",
      "    for j in range(div):\n",
      "        ind = len(cl[i])/div\n",
      "        a=int(j*ind)\n",
      "        b=int((j+1)*ind)\n",
      "        datas_.append(np.array(cl[i][a:b]))\n",
      "'''\n",
      "datas=[[] for _ in range(10)]\n",
      "labels=[[] for _ in range(10)]\n",
      "for i in range(20):\n",
      "    if i%2==0:\n",
      "        datas[i%10].append(datas_[i])\n",
      "        labels[i%10].append(np.array([i//2]*int(60000/20)))\n",
      "        print(i, i//2, i%10)\n",
      "    else:\n",
      "        datas[i%10].append(datas_[20-i])\n",
      "        labels[i%10].append(np.array([(20-i)//2]*int(60000/20)))\n",
      "        print(20-i,(20-i)//2,i%10)\n",
      "'''\n",
      "datas=[[] for _ in range(10)]\n",
      "labels=[[] for _ in range(10)]\n",
      "for i in range(20):\n",
      "    datas[i//2].append(datas_[i])\n",
      "    labels[i//2].append(np.array([i//2]*int(60000/20)))\n",
      "    print(i, i//2)\n",
      "for i in range(len(datas)):\n",
      "    datas[i] = np.concatenate([datas[i][0],datas[i][1]],axis=0)\n",
      "    labels[i] = np.concatenate([labels[i][0],labels[i][1]],axis=0)\n",
      "len(labels[7])\n",
      "class_names = ['T-shirt/top', 'Trouser', 'Pullover', 'Dress', 'Coat',\n",
      "               'Sandal', 'Shirt', 'Sneaker', 'Bag', 'Ankle boot']\n",
      "train_images.shape\n",
      "test_images.shape\n",
      "plt.figure(figsize=(10,10))\n",
      "for i in range(3000,3025):\n",
      "    plt.subplot(5,5,i+1-3000)\n",
      "    plt.xticks([])\n",
      "    plt.yticks([])\n",
      "    plt.grid(False)\n",
      "    plt.imshow(datas[3][i], cmap=plt.cm.binary)\n",
      "    plt.xlabel(labels[3][i])\n",
      "plt.show()\n",
      "def build_model():\n",
      "    model = tf.keras.Sequential([\n",
      "    tf.keras.layers.Flatten(input_shape=(28, 28)),\n",
      "    tf.keras.layers.Dense(128, activation='relu'),\n",
      "    tf.keras.layers.Dense(10)\n",
      "    ])\n",
      "    return model\n",
      "from silence_tensorflow import silence_tensorflow\n",
      "silence_tensorflow()\n",
      "for i in range(10):\n",
      "    np.random.shuffle(labels[i])\n",
      "    np.random.shuffle(datas[i])\n",
      "import copy\n",
      "rnd = 31\n",
      "num_class = 10\n",
      "eval_list = []\n",
      "num_data = [3000,800,800,800,800,800,800,800,800,800]# 10개 배열이고, 각 배열에 데이터 수 들어가있음\n",
      "add_data = 100 # int\n",
      "\n",
      "for r in range(rnd):\n",
      "    print(num_data)\n",
      "    for c in range(num_class):\n",
      "        # 만약 난수로 초기화되면 동일한 난수값으로 고정\n",
      "        model = build_model()\n",
      "        if r!=0:\n",
      "            model.set_weights(global_weight)\n",
      "        if c==0:\n",
      "            weight_list = [[],[],[],[]]\n",
      "        model.compile(optimizer='adam',\n",
      "              loss=tf.keras.losses.SparseCategoricalCrossentropy(from_logits=True),\n",
      "              metrics=['accuracy'])\n",
      "        model.fit(datas[c][:num_data[c]], labels[c][:num_data[c]], epochs=20,shuffle=True)\n",
      "        for i in range(4):\n",
      "            if c==0:\n",
      "                weight_list[i] = model.get_weights()[i] / sum(num_data) * num_data[c]\n",
      "            else:\n",
      "                weight_list[i] += model.get_weights()[i] / sum(num_data) * num_data[c]\n",
      "        \n",
      "        num_data[c] += add_data\n",
      "    global_weight = copy.deepcopy(weight_list)\n",
      "\n",
      "    \n",
      "    global_model = build_model()\n",
      "    global_model.compile(optimizer='adam',\n",
      "              loss=tf.keras.losses.SparseCategoricalCrossentropy(from_logits=True),\n",
      "              metrics=['accuracy'])\n",
      "    global_model.set_weights(global_weight)\n",
      "    test_loss, test_acc = global_model.evaluate(test_images,  test_labels, verbose=2)\n",
      "    print('\\nTest accuracy:', test_acc)\n",
      "    \n",
      "    eval_list.append(test_acc)\n",
      "    \n",
      "# output : rnd 수만큼의 eval 결과\n",
      "3000*20\n",
      "3000*10\n",
      "3000+800*9\n",
      "(3000+800*9) / 10\n",
      "(3000+800*9+30000) / 10\n",
      "4020\n",
      "1020/30\n",
      "4020-800\n",
      "4020-800\n",
      "3220/30\n",
      "107*10\n",
      "107*30\n",
      "34*30\n",
      "107*30\n",
      "# 제안하는 실험\n",
      "rnd = 31\n",
      "num_class = 10\n",
      "eval_list = []\n",
      "num_data = [3000,800,800,800,800,800,800,800,800,800]# 10개 배열이고, 각 배열에 데이터 수 들어가있음\n",
      "add_data = [34,107,107,107,107,107,107,107,107,107] # 최종적으로 4020이 되도록\n",
      "\n",
      "for r in range(rnd):\n",
      "    print(num_data)\n",
      "    for c in range(num_class):\n",
      "        # 만약 난수로 초기화되면 동일한 난수값으로 고정\n",
      "        model = build_model()\n",
      "        if r!=0:\n",
      "            model.set_weights(global_weight)\n",
      "        if c==0:\n",
      "            weight_list = [[],[],[],[]]\n",
      "        model.compile(optimizer='adam',\n",
      "              loss=tf.keras.losses.SparseCategoricalCrossentropy(from_logits=True),\n",
      "              metrics=['accuracy'])\n",
      "        model.fit(datas[c][:num_data[c]], labels[c][:num_data[c]], epochs=20,shuffle=True)\n",
      "        for i in range(4):\n",
      "            if c==0:\n",
      "                weight_list[i] = model.get_weights()[i] / sum(num_data) * num_data[c]\n",
      "            else:\n",
      "                weight_list[i] += model.get_weights()[i] / sum(num_data) * num_data[c]\n",
      "        \n",
      "        num_data[c] += add_data[c]\n",
      "        if r==rnd-2 and c!=0:\n",
      "            num_data[c]+=10\n",
      "    global_weight = copy.deepcopy(weight_list)\n",
      "\n",
      "    \n",
      "    global_model = build_model()\n",
      "    global_model.compile(optimizer='adam',\n",
      "              loss=tf.keras.losses.SparseCategoricalCrossentropy(from_logits=True),\n",
      "              metrics=['accuracy'])\n",
      "    global_model.set_weights(global_weight)\n",
      "    test_loss, test_acc = global_model.evaluate(test_images,  test_labels, verbose=2)\n",
      "    print('\\nTest accuracy:', test_acc)\n",
      "    \n",
      "    eval_list.append(test_acc)\n",
      "    \n",
      "# output : rnd 수만큼의 eval 결과\n",
      "# 제안하는 실험\n",
      "rnd = 31\n",
      "num_class = 10\n",
      "eval_list = []\n",
      "num_data = [3000,800,800,800,800,800,800,800,800,800]# 10개 배열이고, 각 배열에 데이터 수 들어가있음\n",
      "add_data = [34,107,107,107,107,107,107,107,107,107] # 최종적으로 4020이 되도록\n",
      "\n",
      "for r in range(rnd):\n",
      "    print(rnd,num_data)\n",
      "    for c in range(num_class):\n",
      "        # 만약 난수로 초기화되면 동일한 난수값으로 고정\n",
      "        model = build_model()\n",
      "        if r!=0:\n",
      "            model.set_weights(global_weight)\n",
      "        if c==0:\n",
      "            weight_list = [[],[],[],[]]\n",
      "        model.compile(optimizer='adam',\n",
      "              loss=tf.keras.losses.SparseCategoricalCrossentropy(from_logits=True),\n",
      "              metrics=['accuracy'])\n",
      "        model.fit(datas[c][:num_data[c]], labels[c][:num_data[c]], epochs=20,shuffle=True,verbose = 0)\n",
      "        for i in range(4):\n",
      "            if c==0:\n",
      "                weight_list[i] = model.get_weights()[i] / sum(num_data) * num_data[c]\n",
      "            else:\n",
      "                weight_list[i] += model.get_weights()[i] / sum(num_data) * num_data[c]\n",
      "        \n",
      "        num_data[c] += add_data[c]\n",
      "        if r==rnd-2 and c!=0:\n",
      "            num_data[c]+=10\n",
      "    global_weight = copy.deepcopy(weight_list)\n",
      "\n",
      "    \n",
      "    global_model = build_model()\n",
      "    global_model.compile(optimizer='adam',\n",
      "              loss=tf.keras.losses.SparseCategoricalCrossentropy(from_logits=True),\n",
      "              metrics=['accuracy'])\n",
      "    global_model.set_weights(global_weight)\n",
      "    test_loss, test_acc = global_model.evaluate(test_images,  test_labels, verbose=2)\n",
      "    print('\\nTest accuracy:', test_acc)\n",
      "    \n",
      "    eval_list.append(test_acc)\n",
      "    \n",
      "# output : rnd 수만큼의 eval 결과\n",
      "# 제안하는 실험\n",
      "rnd = 31\n",
      "num_class = 10\n",
      "eval_list = []\n",
      "num_data = [3000,800,800,800,800,800,800,800,800,800]# 10개 배열이고, 각 배열에 데이터 수 들어가있음\n",
      "add_data = [34,107,107,107,107,107,107,107,107,107] # 최종적으로 4020이 되도록\n",
      "\n",
      "for r in range(rnd):\n",
      "    print(r,num_data)\n",
      "    for c in range(num_class):\n",
      "        # 만약 난수로 초기화되면 동일한 난수값으로 고정\n",
      "        model = build_model()\n",
      "        if r!=0:\n",
      "            model.set_weights(global_weight)\n",
      "        if c==0:\n",
      "            weight_list = [[],[],[],[]]\n",
      "        model.compile(optimizer='adam',\n",
      "              loss=tf.keras.losses.SparseCategoricalCrossentropy(from_logits=True),\n",
      "              metrics=['accuracy'])\n",
      "        model.fit(datas[c][:num_data[c]], labels[c][:num_data[c]], epochs=20,shuffle=True,verbose = 0)\n",
      "        for i in range(4):\n",
      "            if c==0:\n",
      "                weight_list[i] = model.get_weights()[i] / sum(num_data) * num_data[c]\n",
      "            else:\n",
      "                weight_list[i] += model.get_weights()[i] / sum(num_data) * num_data[c]\n",
      "        \n",
      "        num_data[c] += add_data[c]\n",
      "        if r==rnd-2 and c!=0:\n",
      "            num_data[c]+=10\n",
      "    global_weight = copy.deepcopy(weight_list)\n",
      "\n",
      "    \n",
      "    global_model = build_model()\n",
      "    global_model.compile(optimizer='adam',\n",
      "              loss=tf.keras.losses.SparseCategoricalCrossentropy(from_logits=True),\n",
      "              metrics=['accuracy'])\n",
      "    global_model.set_weights(global_weight)\n",
      "    test_loss, test_acc = global_model.evaluate(test_images,  test_labels, verbose=2)\n",
      "    print('\\nTest accuracy:', test_acc)\n",
      "    \n",
      "    eval_list.append(test_acc)\n",
      "    \n",
      "# output : rnd 수만큼의 eval 결과\n",
      "# 제안하는 실험\n",
      "rnd = 31\n",
      "num_class = 10\n",
      "eval_list = []\n",
      "num_data = [3000,800,800,800,800,800,800,800,800,800]# 10개 배열이고, 각 배열에 데이터 수 들어가있음\n",
      "add_data = [1,110,110,110,110,110,110,110,110,110] # 최종적으로 4020이 되도록\n",
      "\n",
      "for r in range(rnd):\n",
      "    print(r,num_data)\n",
      "    for c in range(num_class):\n",
      "        # 만약 난수로 초기화되면 동일한 난수값으로 고정\n",
      "        model = build_model()\n",
      "        if r!=0:\n",
      "            model.set_weights(global_weight)\n",
      "        if c==0:\n",
      "            weight_list = [[],[],[],[]]\n",
      "        model.compile(optimizer='adam',\n",
      "              loss=tf.keras.losses.SparseCategoricalCrossentropy(from_logits=True),\n",
      "              metrics=['accuracy'])\n",
      "        model.fit(datas[c][:num_data[c]], labels[c][:num_data[c]], epochs=20,shuffle=True,verbose = 0)\n",
      "        for i in range(4):\n",
      "            if c==0:\n",
      "                weight_list[i] = model.get_weights()[i] / sum(num_data) * num_data[c]\n",
      "            else:\n",
      "                weight_list[i] += model.get_weights()[i] / sum(num_data) * num_data[c]\n",
      "        \n",
      "        num_data[c] += add_data[c]\n",
      "        if r==rnd-2 and c!=0:\n",
      "            num_data[c]+=10\n",
      "    global_weight = copy.deepcopy(weight_list)\n",
      "\n",
      "    \n",
      "    global_model = build_model()\n",
      "    global_model.compile(optimizer='adam',\n",
      "              loss=tf.keras.losses.SparseCategoricalCrossentropy(from_logits=True),\n",
      "              metrics=['accuracy'])\n",
      "    global_model.set_weights(global_weight)\n",
      "    test_loss, test_acc = global_model.evaluate(test_images,  test_labels, verbose=2)\n",
      "    print('\\nTest accuracy:', test_acc)\n",
      "    \n",
      "    eval_list.append(test_acc)\n",
      "    \n",
      "# output : rnd 수만큼의 eval 결과\n",
      "%history\n"
     ]
    }
   ],
   "source": [
    "%history"
   ]
  },
  {
   "cell_type": "code",
   "execution_count": 99,
   "metadata": {},
   "outputs": [
    {
     "name": "stdout",
     "output_type": "stream",
     "text": [
      "Epoch 1/5\n",
      "WARNING:tensorflow:AutoGraph could not transform <function Model.make_train_function.<locals>.train_function at 0x7f4a5ce1dea0> and will run it as-is.\n",
      "Please report this to the TensorFlow team. When filing the bug, set the verbosity to 10 (on Linux, `export AUTOGRAPH_VERBOSITY=10`) and attach the full output.\n",
      "Cause: 'arguments' object has no attribute 'posonlyargs'\n",
      "To silence this warning, decorate the function with @tf.autograph.experimental.do_not_convert\n",
      "WARNING: AutoGraph could not transform <function Model.make_train_function.<locals>.train_function at 0x7f4a5ce1dea0> and will run it as-is.\n",
      "Please report this to the TensorFlow team. When filing the bug, set the verbosity to 10 (on Linux, `export AUTOGRAPH_VERBOSITY=10`) and attach the full output.\n",
      "Cause: 'arguments' object has no attribute 'posonlyargs'\n",
      "To silence this warning, decorate the function with @tf.autograph.experimental.do_not_convert\n",
      "29/29 [==============================] - 0s 2ms/step - loss: 0.1134 - accuracy: 0.9878\n",
      "Epoch 2/5\n",
      "29/29 [==============================] - 0s 2ms/step - loss: 3.1273e-04 - accuracy: 1.0000\n",
      "Epoch 3/5\n",
      "29/29 [==============================] - 0s 2ms/step - loss: 2.1416e-04 - accuracy: 1.0000\n",
      "Epoch 4/5\n",
      "29/29 [==============================] - 0s 2ms/step - loss: 1.5475e-04 - accuracy: 1.0000\n",
      "Epoch 5/5\n",
      "29/29 [==============================] - 0s 2ms/step - loss: 1.1147e-04 - accuracy: 1.0000\n"
     ]
    },
    {
     "data": {
      "text/plain": [
       "<keras.callbacks.History at 0x7f4a60394f98>"
      ]
     },
     "execution_count": 99,
     "metadata": {},
     "output_type": "execute_result"
    }
   ],
   "source": [
    "model3.fit(cl3[:cl3_num_data], np.array([3]*cl3_num_data), epochs=5)"
   ]
  },
  {
   "cell_type": "code",
   "execution_count": 114,
   "metadata": {},
   "outputs": [
    {
     "name": "stdout",
     "output_type": "stream",
     "text": [
      "[[ 0.09856728 -0.01422403  0.1148569  ... -0.02182972 -0.2091936\n",
      "   0.17408659]\n",
      " [ 0.0465536  -0.10154389 -0.06353844 ...  0.19538967  0.11403015\n",
      "  -0.20261787]\n",
      " [-0.06081941 -0.21924564 -0.13772611 ...  0.00900875 -0.09307031\n",
      "  -0.08332703]\n",
      " ...\n",
      " [ 0.12794898 -0.1478526  -0.00078026 ...  0.14683916 -0.15021737\n",
      "   0.11896601]\n",
      " [ 0.04102879  0.02887517 -0.01305529 ...  0.19729069  0.15858637\n",
      "  -0.16764   ]\n",
      " [ 0.04656188  0.10660991 -0.05318559 ... -0.04385385  0.03197822\n",
      "   0.12614782]]\n"
     ]
    }
   ],
   "source": [
    "print(np.array(model3.layers[2].weights[0]))"
   ]
  },
  {
   "cell_type": "code",
   "execution_count": 118,
   "metadata": {},
   "outputs": [
    {
     "data": {
      "text/plain": [
       "array([[-0.14575575, -0.07969473,  0.11644027, ..., -0.06873892,\n",
       "        -0.18031067, -0.01933658],\n",
       "       [-0.13891414, -0.19686875, -0.01764125, ...,  0.06988   ,\n",
       "         0.10227557,  0.0499702 ],\n",
       "       [-0.24721529, -0.12728055,  0.11816847, ..., -0.13167262,\n",
       "         0.09234715, -0.01406336],\n",
       "       ...,\n",
       "       [ 0.19843099, -0.03001842, -0.1961287 , ...,  0.14634258,\n",
       "         0.03541115, -0.0922619 ],\n",
       "       [ 0.20811202,  0.19373216,  0.05547115, ...,  0.03542365,\n",
       "         0.15458253,  0.00185841],\n",
       "       [-0.16763945, -0.01963166, -0.01763218, ..., -0.0357798 ,\n",
       "        -0.05484609, -0.11474489]], dtype=float32)"
      ]
     },
     "execution_count": 118,
     "metadata": {},
     "output_type": "execute_result"
    }
   ],
   "source": [
    "np.array(model2.layers[2].weights[0])+np.array(model3.layers[2].weights[0])/2"
   ]
  },
  {
   "cell_type": "code",
   "execution_count": 112,
   "metadata": {},
   "outputs": [
    {
     "name": "stdout",
     "output_type": "stream",
     "text": [
      "<tf.Variable 'dense_23/kernel:0' shape=(128, 10) dtype=float32, numpy=\n",
      "array([[ 0.09856728, -0.01422403,  0.1148569 , ..., -0.02182972,\n",
      "        -0.2091936 ,  0.17408659],\n",
      "       [ 0.0465536 , -0.10154389, -0.06353844, ...,  0.19538967,\n",
      "         0.11403015, -0.20261787],\n",
      "       [-0.06081941, -0.21924564, -0.13772611, ...,  0.00900875,\n",
      "        -0.09307031, -0.08332703],\n",
      "       ...,\n",
      "       [ 0.12794898, -0.1478526 , -0.00078026, ...,  0.14683916,\n",
      "        -0.15021737,  0.11896601],\n",
      "       [ 0.04102879,  0.02887517, -0.01305529, ...,  0.19729069,\n",
      "         0.15858637, -0.16764   ],\n",
      "       [ 0.04656188,  0.10660991, -0.05318559, ..., -0.04385385,\n",
      "         0.03197822,  0.12614782]], dtype=float32)>\n"
     ]
    }
   ],
   "source": [
    "print(model3.layers[2].weights[0]) # Weight"
   ]
  },
  {
   "cell_type": "code",
   "execution_count": 109,
   "metadata": {},
   "outputs": [
    {
     "name": "stdout",
     "output_type": "stream",
     "text": [
      "<tf.Variable 'dense_23/bias:0' shape=(10,) dtype=float32, numpy=\n",
      "array([-0.01053868, -0.01156166, -0.01127856,  0.01049931, -0.0107424 ,\n",
      "       -0.01072576, -0.00981709, -0.00977572, -0.00986482, -0.01067928],\n",
      "      dtype=float32)>\n"
     ]
    }
   ],
   "source": [
    "print(model3.layers[2].weights[1]) # Bias"
   ]
  },
  {
   "cell_type": "code",
   "execution_count": 119,
   "metadata": {},
   "outputs": [
    {
     "name": "stdout",
     "output_type": "stream",
     "text": [
      "Epoch 1/5\n",
      "WARNING:tensorflow:AutoGraph could not transform <function Model.make_train_function.<locals>.train_function at 0x7f4a1c0a3ea0> and will run it as-is.\n",
      "Please report this to the TensorFlow team. When filing the bug, set the verbosity to 10 (on Linux, `export AUTOGRAPH_VERBOSITY=10`) and attach the full output.\n",
      "Cause: 'arguments' object has no attribute 'posonlyargs'\n",
      "To silence this warning, decorate the function with @tf.autograph.experimental.do_not_convert\n",
      "WARNING: AutoGraph could not transform <function Model.make_train_function.<locals>.train_function at 0x7f4a1c0a3ea0> and will run it as-is.\n",
      "Please report this to the TensorFlow team. When filing the bug, set the verbosity to 10 (on Linux, `export AUTOGRAPH_VERBOSITY=10`) and attach the full output.\n",
      "Cause: 'arguments' object has no attribute 'posonlyargs'\n",
      "To silence this warning, decorate the function with @tf.autograph.experimental.do_not_convert\n",
      "29/29 [==============================] - 0s 2ms/step - loss: 0.1525 - accuracy: 0.9644\n",
      "Epoch 2/5\n",
      "29/29 [==============================] - 0s 2ms/step - loss: 4.2987e-04 - accuracy: 1.0000\n",
      "Epoch 3/5\n",
      "29/29 [==============================] - 0s 2ms/step - loss: 2.1634e-04 - accuracy: 1.0000\n",
      "Epoch 4/5\n",
      "29/29 [==============================] - 0s 2ms/step - loss: 1.5937e-04 - accuracy: 1.0000\n",
      "Epoch 5/5\n",
      "29/29 [==============================] - 0s 2ms/step - loss: 9.5678e-05 - accuracy: 1.0000\n"
     ]
    },
    {
     "data": {
      "text/plain": [
       "<keras.callbacks.History at 0x7f4a107760f0>"
      ]
     },
     "execution_count": 119,
     "metadata": {},
     "output_type": "execute_result"
    }
   ],
   "source": [
    "model4.fit(cl4[:cl4_num_data], np.array([4]*cl4_num_data), epochs=5)"
   ]
  },
  {
   "cell_type": "code",
   "execution_count": 120,
   "metadata": {},
   "outputs": [
    {
     "name": "stdout",
     "output_type": "stream",
     "text": [
      "Epoch 1/5\n",
      "WARNING:tensorflow:AutoGraph could not transform <function Model.make_train_function.<locals>.train_function at 0x7f4a10631d08> and will run it as-is.\n",
      "Please report this to the TensorFlow team. When filing the bug, set the verbosity to 10 (on Linux, `export AUTOGRAPH_VERBOSITY=10`) and attach the full output.\n",
      "Cause: 'arguments' object has no attribute 'posonlyargs'\n",
      "To silence this warning, decorate the function with @tf.autograph.experimental.do_not_convert\n",
      "WARNING: AutoGraph could not transform <function Model.make_train_function.<locals>.train_function at 0x7f4a10631d08> and will run it as-is.\n",
      "Please report this to the TensorFlow team. When filing the bug, set the verbosity to 10 (on Linux, `export AUTOGRAPH_VERBOSITY=10`) and attach the full output.\n",
      "Cause: 'arguments' object has no attribute 'posonlyargs'\n",
      "To silence this warning, decorate the function with @tf.autograph.experimental.do_not_convert\n",
      "29/29 [==============================] - 0s 2ms/step - loss: 0.2708 - accuracy: 0.9600\n",
      "Epoch 2/5\n",
      "29/29 [==============================] - 0s 2ms/step - loss: 0.0016 - accuracy: 1.0000\n",
      "Epoch 3/5\n",
      "29/29 [==============================] - 0s 2ms/step - loss: 8.1730e-04 - accuracy: 1.0000\n",
      "Epoch 4/5\n",
      "29/29 [==============================] - 0s 2ms/step - loss: 5.8477e-04 - accuracy: 1.0000\n",
      "Epoch 5/5\n",
      "29/29 [==============================] - 0s 2ms/step - loss: 4.3253e-04 - accuracy: 1.0000\n"
     ]
    },
    {
     "data": {
      "text/plain": [
       "<keras.callbacks.History at 0x7f4a104dd978>"
      ]
     },
     "execution_count": 120,
     "metadata": {},
     "output_type": "execute_result"
    }
   ],
   "source": [
    "model5.fit(cl5[:cl5_num_data], np.array([5]*cl5_num_data), epochs=5)"
   ]
  },
  {
   "cell_type": "code",
   "execution_count": 121,
   "metadata": {},
   "outputs": [
    {
     "name": "stdout",
     "output_type": "stream",
     "text": [
      "Epoch 1/5\n",
      "WARNING:tensorflow:AutoGraph could not transform <function Model.make_train_function.<locals>.train_function at 0x7f4a10396e18> and will run it as-is.\n",
      "Please report this to the TensorFlow team. When filing the bug, set the verbosity to 10 (on Linux, `export AUTOGRAPH_VERBOSITY=10`) and attach the full output.\n",
      "Cause: 'arguments' object has no attribute 'posonlyargs'\n",
      "To silence this warning, decorate the function with @tf.autograph.experimental.do_not_convert\n",
      "WARNING: AutoGraph could not transform <function Model.make_train_function.<locals>.train_function at 0x7f4a10396e18> and will run it as-is.\n",
      "Please report this to the TensorFlow team. When filing the bug, set the verbosity to 10 (on Linux, `export AUTOGRAPH_VERBOSITY=10`) and attach the full output.\n",
      "Cause: 'arguments' object has no attribute 'posonlyargs'\n",
      "To silence this warning, decorate the function with @tf.autograph.experimental.do_not_convert\n",
      "29/29 [==============================] - 1s 2ms/step - loss: 0.1055 - accuracy: 0.9878\n",
      "Epoch 2/5\n",
      "29/29 [==============================] - 0s 2ms/step - loss: 4.9324e-04 - accuracy: 1.0000\n",
      "Epoch 3/5\n",
      "29/29 [==============================] - 0s 2ms/step - loss: 2.4480e-04 - accuracy: 1.0000\n",
      "Epoch 4/5\n",
      "29/29 [==============================] - 0s 2ms/step - loss: 1.4585e-04 - accuracy: 1.0000\n",
      "Epoch 5/5\n",
      "29/29 [==============================] - 0s 2ms/step - loss: 8.9111e-05 - accuracy: 1.0000\n"
     ]
    },
    {
     "data": {
      "text/plain": [
       "<keras.callbacks.History at 0x7f4a102492b0>"
      ]
     },
     "execution_count": 121,
     "metadata": {},
     "output_type": "execute_result"
    }
   ],
   "source": [
    "model6.fit(cl6[:cl6_num_data], np.array([6]*cl6_num_data), epochs=5)"
   ]
  },
  {
   "cell_type": "code",
   "execution_count": 122,
   "metadata": {},
   "outputs": [
    {
     "name": "stdout",
     "output_type": "stream",
     "text": [
      "Epoch 1/5\n",
      "WARNING:tensorflow:AutoGraph could not transform <function Model.make_train_function.<locals>.train_function at 0x7f4a5d0d2048> and will run it as-is.\n",
      "Please report this to the TensorFlow team. When filing the bug, set the verbosity to 10 (on Linux, `export AUTOGRAPH_VERBOSITY=10`) and attach the full output.\n",
      "Cause: 'arguments' object has no attribute 'posonlyargs'\n",
      "To silence this warning, decorate the function with @tf.autograph.experimental.do_not_convert\n",
      "WARNING: AutoGraph could not transform <function Model.make_train_function.<locals>.train_function at 0x7f4a5d0d2048> and will run it as-is.\n",
      "Please report this to the TensorFlow team. When filing the bug, set the verbosity to 10 (on Linux, `export AUTOGRAPH_VERBOSITY=10`) and attach the full output.\n",
      "Cause: 'arguments' object has no attribute 'posonlyargs'\n",
      "To silence this warning, decorate the function with @tf.autograph.experimental.do_not_convert\n",
      "29/29 [==============================] - 0s 2ms/step - loss: 0.2427 - accuracy: 0.9567\n",
      "Epoch 2/5\n",
      "29/29 [==============================] - 0s 2ms/step - loss: 7.8976e-04 - accuracy: 1.0000\n",
      "Epoch 3/5\n",
      "29/29 [==============================] - 0s 2ms/step - loss: 3.6801e-04 - accuracy: 1.0000\n",
      "Epoch 4/5\n",
      "29/29 [==============================] - 0s 2ms/step - loss: 2.1032e-04 - accuracy: 1.0000\n",
      "Epoch 5/5\n",
      "29/29 [==============================] - 0s 2ms/step - loss: 1.1115e-04 - accuracy: 1.0000\n"
     ]
    },
    {
     "data": {
      "text/plain": [
       "<keras.callbacks.History at 0x7f4a604a1c50>"
      ]
     },
     "execution_count": 122,
     "metadata": {},
     "output_type": "execute_result"
    }
   ],
   "source": [
    "model7.fit(cl7[:cl7_num_data], np.array([7]*cl7_num_data), epochs=5)"
   ]
  },
  {
   "cell_type": "code",
   "execution_count": 123,
   "metadata": {},
   "outputs": [
    {
     "name": "stdout",
     "output_type": "stream",
     "text": [
      "Epoch 1/5\n",
      "WARNING:tensorflow:AutoGraph could not transform <function Model.make_train_function.<locals>.train_function at 0x7f49a81452f0> and will run it as-is.\n",
      "Please report this to the TensorFlow team. When filing the bug, set the verbosity to 10 (on Linux, `export AUTOGRAPH_VERBOSITY=10`) and attach the full output.\n",
      "Cause: 'arguments' object has no attribute 'posonlyargs'\n",
      "To silence this warning, decorate the function with @tf.autograph.experimental.do_not_convert\n",
      "WARNING: AutoGraph could not transform <function Model.make_train_function.<locals>.train_function at 0x7f49a81452f0> and will run it as-is.\n",
      "Please report this to the TensorFlow team. When filing the bug, set the verbosity to 10 (on Linux, `export AUTOGRAPH_VERBOSITY=10`) and attach the full output.\n",
      "Cause: 'arguments' object has no attribute 'posonlyargs'\n",
      "To silence this warning, decorate the function with @tf.autograph.experimental.do_not_convert\n",
      "29/29 [==============================] - 0s 2ms/step - loss: 0.1711 - accuracy: 0.9622\n",
      "Epoch 2/5\n",
      "29/29 [==============================] - 0s 2ms/step - loss: 1.5474e-04 - accuracy: 1.0000\n",
      "Epoch 3/5\n",
      "29/29 [==============================] - 0s 2ms/step - loss: 9.5788e-05 - accuracy: 1.0000\n",
      "Epoch 4/5\n",
      "29/29 [==============================] - 0s 2ms/step - loss: 6.9348e-05 - accuracy: 1.0000\n",
      "Epoch 5/5\n",
      "29/29 [==============================] - 0s 2ms/step - loss: 4.5555e-05 - accuracy: 1.0000\n"
     ]
    },
    {
     "data": {
      "text/plain": [
       "<keras.callbacks.History at 0x7f49a80fc588>"
      ]
     },
     "execution_count": 123,
     "metadata": {},
     "output_type": "execute_result"
    }
   ],
   "source": [
    "model8.fit(cl8[:cl8_num_data], np.array([8]*cl8_num_data), epochs=5)"
   ]
  },
  {
   "cell_type": "code",
   "execution_count": 124,
   "metadata": {},
   "outputs": [
    {
     "name": "stdout",
     "output_type": "stream",
     "text": [
      "Epoch 1/5\n",
      "WARNING:tensorflow:AutoGraph could not transform <function Model.make_train_function.<locals>.train_function at 0x7f4988780e18> and will run it as-is.\n",
      "Please report this to the TensorFlow team. When filing the bug, set the verbosity to 10 (on Linux, `export AUTOGRAPH_VERBOSITY=10`) and attach the full output.\n",
      "Cause: 'arguments' object has no attribute 'posonlyargs'\n",
      "To silence this warning, decorate the function with @tf.autograph.experimental.do_not_convert\n",
      "WARNING: AutoGraph could not transform <function Model.make_train_function.<locals>.train_function at 0x7f4988780e18> and will run it as-is.\n",
      "Please report this to the TensorFlow team. When filing the bug, set the verbosity to 10 (on Linux, `export AUTOGRAPH_VERBOSITY=10`) and attach the full output.\n",
      "Cause: 'arguments' object has no attribute 'posonlyargs'\n",
      "To silence this warning, decorate the function with @tf.autograph.experimental.do_not_convert\n",
      "29/29 [==============================] - 0s 2ms/step - loss: 0.1304 - accuracy: 0.9644\n",
      "Epoch 2/5\n",
      "29/29 [==============================] - 0s 2ms/step - loss: 6.9837e-05 - accuracy: 1.0000\n",
      "Epoch 3/5\n",
      "29/29 [==============================] - 0s 2ms/step - loss: 4.3359e-05 - accuracy: 1.0000\n",
      "Epoch 4/5\n",
      "29/29 [==============================] - 0s 2ms/step - loss: 3.2769e-05 - accuracy: 1.0000\n",
      "Epoch 5/5\n",
      "29/29 [==============================] - 0s 2ms/step - loss: 2.5628e-05 - accuracy: 1.0000\n"
     ]
    },
    {
     "data": {
      "text/plain": [
       "<keras.callbacks.History at 0x7f4988649e80>"
      ]
     },
     "execution_count": 124,
     "metadata": {},
     "output_type": "execute_result"
    }
   ],
   "source": [
    "model9.fit(cl9[:cl9_num_data], np.array([9]*cl9_num_data), epochs=5)"
   ]
  },
  {
   "cell_type": "code",
   "execution_count": 125,
   "metadata": {},
   "outputs": [],
   "source": [
    "def weight_avg(model0, model1, model2, model3, model4, model5, model6, model7, model8, model9):\n",
    "    "
   ]
  },
  {
   "cell_type": "code",
   "execution_count": 126,
   "metadata": {},
   "outputs": [],
   "source": [
    "global_weights = weight_avg(model0, model1, model2, model3, model4, model5, model6, model7, model8, model9)"
   ]
  },
  {
   "cell_type": "code",
   "execution_count": 129,
   "metadata": {},
   "outputs": [
    {
     "data": {
      "text/plain": [
       "(128, 10)"
      ]
     },
     "execution_count": 129,
     "metadata": {},
     "output_type": "execute_result"
    }
   ],
   "source": [
    "global_weights.shape"
   ]
  },
  {
   "cell_type": "code",
   "execution_count": 143,
   "metadata": {},
   "outputs": [
    {
     "ename": "TypeError",
     "evalue": "'method' object is not subscriptable",
     "output_type": "error",
     "traceback": [
      "\u001b[0;31m---------------------------------------------------------------------------\u001b[0m",
      "\u001b[0;31mTypeError\u001b[0m                                 Traceback (most recent call last)",
      "\u001b[0;32m<ipython-input-143-e711aaed47f0>\u001b[0m in \u001b[0;36m<module>\u001b[0;34m\u001b[0m\n\u001b[0;32m----> 1\u001b[0;31m \u001b[0mglobal_model\u001b[0m\u001b[0;34m.\u001b[0m\u001b[0mset_weights\u001b[0m\u001b[0;34m[\u001b[0m\u001b[0;36m0\u001b[0m\u001b[0;34m]\u001b[0m\u001b[0;34m\u001b[0m\u001b[0;34m\u001b[0m\u001b[0m\n\u001b[0m",
      "\u001b[0;31mTypeError\u001b[0m: 'method' object is not subscriptable"
     ]
    }
   ],
   "source": [
    "global_model.set_weights[0]"
   ]
  },
  {
   "cell_type": "code",
   "execution_count": 146,
   "metadata": {},
   "outputs": [
    {
     "data": {
      "text/plain": [
       "4"
      ]
     },
     "execution_count": 146,
     "metadata": {},
     "output_type": "execute_result"
    }
   ],
   "source": [
    "len(model1.get_weights())"
   ]
  },
  {
   "cell_type": "code",
   "execution_count": 144,
   "metadata": {},
   "outputs": [
    {
     "data": {
      "text/plain": [
       "array([[-0.07147585, -0.03363775, -0.04815705, ...,  0.01612155,\n",
       "         0.00041796,  0.04741978],\n",
       "       [-0.02669944,  0.05250708, -0.04200787, ...,  0.04631831,\n",
       "        -0.07602512,  0.00564207],\n",
       "       [ 0.02723231, -0.03654799, -0.03835717, ...,  0.02625385,\n",
       "         0.07412652, -0.0436858 ],\n",
       "       ...,\n",
       "       [-0.06220228, -0.05268533,  0.01747298, ..., -0.00872148,\n",
       "         0.07296377, -0.06434307],\n",
       "       [ 0.05851553, -0.03029617,  0.06611289, ...,  0.05477028,\n",
       "         0.01341317, -0.00859226],\n",
       "       [-0.00915897,  0.025617  ,  0.05593183, ...,  0.01479562,\n",
       "         0.07914624, -0.05357268]], dtype=float32)"
      ]
     },
     "execution_count": 144,
     "metadata": {},
     "output_type": "execute_result"
    }
   ],
   "source": [
    "for i in range(4):\n",
    "    model1.get_weights()[i]+model2.get_weights()[i]+model3.get_weights()[i]+model4.get_weights()[i]+model5.get_weights()[i]+model6.get_weights()[i]+model7.get_weights()[i]+model8.get_weights()[i]+model9.get_weights()[i]"
   ]
  },
  {
   "cell_type": "code",
   "execution_count": 131,
   "metadata": {},
   "outputs": [],
   "source": [
    "global_model = build_model()"
   ]
  },
  {
   "cell_type": "markdown",
   "metadata": {
    "id": "wCpr6DGyE28h"
   },
   "source": [
    "### Evaluation"
   ]
  },
  {
   "cell_type": "code",
   "execution_count": 17,
   "metadata": {
    "execution": {
     "iopub.execute_input": "2021-10-09T00:37:35.648923Z",
     "iopub.status.busy": "2021-10-09T00:37:35.648296Z",
     "iopub.status.idle": "2021-10-09T00:37:36.162471Z",
     "shell.execute_reply": "2021-10-09T00:37:36.162831Z"
    },
    "id": "VflXLEeECaXC"
   },
   "outputs": [
    {
     "name": "stdout",
     "output_type": "stream",
     "text": [
      "313/313 - 0s - loss: 0.3301 - accuracy: 0.8830\n",
      "\n",
      "Test accuracy: 0.8830000162124634\n"
     ]
    }
   ],
   "source": [
    "test_loss, test_acc = model.evaluate(test_images,  test_labels, verbose=2)\n",
    "\n",
    "print('\\nTest accuracy:', test_acc)"
   ]
  },
  {
   "cell_type": "code",
   "execution_count": null,
   "metadata": {},
   "outputs": [],
   "source": []
  },
  {
   "cell_type": "code",
   "execution_count": null,
   "metadata": {},
   "outputs": [],
   "source": [
    "\n",
    "fashion_mnist = tf.keras.datasets.fashion_mnist\n",
    "\n",
    "(train_images, train_labels), (test_images, test_labels) = fashion_mnist.load_data()\n",
    "train_images = train_images / 255.0\n",
    "test_images = test_images / 255.0\n",
    "\n",
    "cl=[[] for _ in range(10)]\n",
    "for i in range(len(train_labels)):\n",
    "    cl[train_labels[i]].append(train_images[i])\n",
    "datas_ = []\n",
    "for i in range(10):\n",
    "    div =2\n",
    "    for j in range(div):\n",
    "        ind = len(cl[i])/div\n",
    "        a=int(j*ind)\n",
    "        b=int((j+1)*ind)\n",
    "        datas_.append(np.array(cl[i][a:b]))\n",
    "'''\n",
    "datas=[[] for _ in range(10)]\n",
    "labels=[[] for _ in range(10)]\n",
    "for i in range(20):\n",
    "    if i%2==0:\n",
    "        datas[i%10].append(datas_[i])\n",
    "        labels[i%10].append(np.array([i//2]*int(60000/20)))\n",
    "        print(i, i//2, i%10)\n",
    "    else:\n",
    "        datas[i%10].append(datas_[20-i])\n",
    "        labels[i%10].append(np.array([(20-i)//2]*int(60000/20)))\n",
    "        print(20-i,(20-i)//2,i%10)\n",
    "'''\n",
    "datas=[[] for _ in range(10)]\n",
    "labels=[[] for _ in range(10)]\n",
    "for i in range(20):\n",
    "    datas[i//2].append(datas_[i])\n",
    "    labels[i//2].append(np.array([i//2]*int(60000/20)))\n",
    "    print(i, i//2)\n",
    "for i in range(len(datas)):\n",
    "    datas[i] = np.concatenate([datas[i][0],datas[i][1]],axis=0)\n",
    "    labels[i] = np.concatenate([labels[i][0],labels[i][1]],axis=0)\n",
    "len(labels[7])\n",
    "class_names = ['T-shirt/top', 'Trouser', 'Pullover', 'Dress', 'Coat',\n",
    "               'Sandal', 'Shirt', 'Sneaker', 'Bag', 'Ankle boot']\n",
    "train_images.shape\n",
    "test_images.shape\n",
    "plt.figure(figsize=(10,10))\n",
    "for i in range(3000,3025):\n",
    "    plt.subplot(5,5,i+1-3000)\n",
    "    plt.xticks([])\n",
    "    plt.yticks([])\n",
    "    plt.grid(False)\n",
    "    plt.imshow(datas[3][i], cmap=plt.cm.binary)\n",
    "    plt.xlabel(labels[3][i])\n",
    "plt.show()\n",
    "def build_model():\n",
    "    model = tf.keras.Sequential([\n",
    "    tf.keras.layers.Flatten(input_shape=(28, 28)),\n",
    "    tf.keras.layers.Dense(128, activation='relu'),\n",
    "    tf.keras.layers.Dense(10)\n",
    "    ])\n",
    "    return model\n",
    "from silence_tensorflow import silence_tensorflow\n",
    "silence_tensorflow()\n",
    "for i in range(10):\n",
    "    np.random.shuffle(labels[i])\n",
    "    np.random.shuffle(datas[i])\n",
    "import copy\n",
    "rnd = 31\n",
    "num_class = 10\n",
    "eval_list = []\n",
    "num_data = [3000,800,800,800,800,800,800,800,800,800]# 10개 배열이고, 각 배열에 데이터 수 들어가있음\n",
    "add_data = 100 # int\n",
    "\n",
    "for r in range(rnd):\n",
    "    print(num_data)\n",
    "    for c in range(num_class):\n",
    "        # 만약 난수로 초기화되면 동일한 난수값으로 고정\n",
    "        model = build_model()\n",
    "        if r!=0:\n",
    "            model.set_weights(global_weight)\n",
    "        if c==0:\n",
    "            weight_list = [[],[],[],[]]\n",
    "        model.compile(optimizer='adam',\n",
    "              loss=tf.keras.losses.SparseCategoricalCrossentropy(from_logits=True),\n",
    "              metrics=['accuracy'])\n",
    "        model.fit(datas[c][:num_data[c]], labels[c][:num_data[c]], epochs=20,shuffle=True)\n",
    "        for i in range(4):\n",
    "            if c==0:\n",
    "                weight_list[i] = model.get_weights()[i] / sum(num_data) * num_data[c]\n",
    "            else:\n",
    "                weight_list[i] += model.get_weights()[i] / sum(num_data) * num_data[c]\n",
    "        \n",
    "        num_data[c] += add_data\n",
    "    global_weight = copy.deepcopy(weight_list)\n",
    "\n",
    "    \n",
    "    global_model = build_model()\n",
    "    global_model.compile(optimizer='adam',\n",
    "              loss=tf.keras.losses.SparseCategoricalCrossentropy(from_logits=True),\n",
    "              metrics=['accuracy'])\n",
    "    global_model.set_weights(global_weight)\n",
    "    test_loss, test_acc = global_model.evaluate(test_images,  test_labels, verbose=2)\n",
    "    print('\\nTest accuracy:', test_acc)\n",
    "    \n",
    "    eval_list.append(test_acc)\n",
    "    \n",
    "# output : rnd 수만큼의 eval 결과\n",
    "3000*20\n",
    "3000*10\n",
    "3000+800*9\n",
    "(3000+800*9) / 10\n",
    "(3000+800*9+30000) / 10\n",
    "4020\n",
    "1020/30\n",
    "4020-800\n",
    "4020-800\n",
    "3220/30\n",
    "107*10\n",
    "107*30\n",
    "34*30\n",
    "107*30\n",
    "# 제안하는 실험\n",
    "rnd = 31\n",
    "num_class = 10\n",
    "eval_list = []\n",
    "num_data = [3000,800,800,800,800,800,800,800,800,800]# 10개 배열이고, 각 배열에 데이터 수 들어가있음\n",
    "add_data = [34,107,107,107,107,107,107,107,107,107] # 최종적으로 4020이 되도록\n",
    "\n",
    "for r in range(rnd):\n",
    "    print(num_data)\n",
    "    for c in range(num_class):\n",
    "        # 만약 난수로 초기화되면 동일한 난수값으로 고정\n",
    "        model = build_model()\n",
    "        if r!=0:\n",
    "            model.set_weights(global_weight)\n",
    "        if c==0:\n",
    "            weight_list = [[],[],[],[]]\n",
    "        model.compile(optimizer='adam',\n",
    "              loss=tf.keras.losses.SparseCategoricalCrossentropy(from_logits=True),\n",
    "              metrics=['accuracy'])\n",
    "        model.fit(datas[c][:num_data[c]], labels[c][:num_data[c]], epochs=20,shuffle=True)\n",
    "        for i in range(4):\n",
    "            if c==0:\n",
    "                weight_list[i] = model.get_weights()[i] / sum(num_data) * num_data[c]\n",
    "            else:\n",
    "                weight_list[i] += model.get_weights()[i] / sum(num_data) * num_data[c]\n",
    "        \n",
    "        num_data[c] += add_data[c]\n",
    "        if r==rnd-2 and c!=0:\n",
    "            num_data[c]+=10\n",
    "    global_weight = copy.deepcopy(weight_list)\n",
    "\n",
    "    \n",
    "    global_model = build_model()\n",
    "    global_model.compile(optimizer='adam',\n",
    "              loss=tf.keras.losses.SparseCategoricalCrossentropy(from_logits=True),\n",
    "              metrics=['accuracy'])\n",
    "    global_model.set_weights(global_weight)\n",
    "    test_loss, test_acc = global_model.evaluate(test_images,  test_labels, verbose=2)\n",
    "    print('\\nTest accuracy:', test_acc)\n",
    "    \n",
    "    eval_list.append(test_acc)\n",
    "    \n",
    "# output : rnd 수만큼의 eval 결과\n",
    "# 제안하는 실험\n",
    "rnd = 31\n",
    "num_class = 10\n",
    "eval_list = []\n",
    "num_data = [3000,800,800,800,800,800,800,800,800,800]# 10개 배열이고, 각 배열에 데이터 수 들어가있음\n",
    "add_data = [34,107,107,107,107,107,107,107,107,107] # 최종적으로 4020이 되도록\n",
    "\n",
    "for r in range(rnd):\n",
    "    print(rnd,num_data)\n",
    "    for c in range(num_class):\n",
    "        # 만약 난수로 초기화되면 동일한 난수값으로 고정\n",
    "        model = build_model()\n",
    "        if r!=0:\n",
    "            model.set_weights(global_weight)\n",
    "        if c==0:\n",
    "            weight_list = [[],[],[],[]]\n",
    "        model.compile(optimizer='adam',\n",
    "              loss=tf.keras.losses.SparseCategoricalCrossentropy(from_logits=True),\n",
    "              metrics=['accuracy'])\n",
    "        model.fit(datas[c][:num_data[c]], labels[c][:num_data[c]], epochs=20,shuffle=True,verbose = 0)\n",
    "        for i in range(4):\n",
    "            if c==0:\n",
    "                weight_list[i] = model.get_weights()[i] / sum(num_data) * num_data[c]\n",
    "            else:\n",
    "                weight_list[i] += model.get_weights()[i] / sum(num_data) * num_data[c]\n",
    "        \n",
    "        num_data[c] += add_data[c]\n",
    "        if r==rnd-2 and c!=0:\n",
    "            num_data[c]+=10\n",
    "    global_weight = copy.deepcopy(weight_list)\n",
    "\n",
    "    \n",
    "    global_model = build_model()\n",
    "    global_model.compile(optimizer='adam',\n",
    "              loss=tf.keras.losses.SparseCategoricalCrossentropy(from_logits=True),\n",
    "              metrics=['accuracy'])\n",
    "    global_model.set_weights(global_weight)\n",
    "    test_loss, test_acc = global_model.evaluate(test_images,  test_labels, verbose=2)\n",
    "    print('\\nTest accuracy:', test_acc)\n",
    "    \n",
    "    eval_list.append(test_acc)\n",
    "    \n",
    "# output : rnd 수만큼의 eval 결과\n",
    "# 제안하는 실험\n",
    "rnd = 31\n",
    "num_class = 10\n",
    "eval_list = []\n",
    "num_data = [3000,800,800,800,800,800,800,800,800,800]# 10개 배열이고, 각 배열에 데이터 수 들어가있음\n",
    "add_data = [34,107,107,107,107,107,107,107,107,107] # 최종적으로 4020이 되도록\n",
    "\n",
    "for r in range(rnd):\n",
    "    print(r,num_data)\n",
    "    for c in range(num_class):\n",
    "        # 만약 난수로 초기화되면 동일한 난수값으로 고정\n",
    "        model = build_model()\n",
    "        if r!=0:\n",
    "            model.set_weights(global_weight)\n",
    "        if c==0:\n",
    "            weight_list = [[],[],[],[]]\n",
    "        model.compile(optimizer='adam',\n",
    "              loss=tf.keras.losses.SparseCategoricalCrossentropy(from_logits=True),\n",
    "              metrics=['accuracy'])\n",
    "        model.fit(datas[c][:num_data[c]], labels[c][:num_data[c]], epochs=20,shuffle=True,verbose = 0)\n",
    "        for i in range(4):\n",
    "            if c==0:\n",
    "                weight_list[i] = model.get_weights()[i] / sum(num_data) * num_data[c]\n",
    "            else:\n",
    "                weight_list[i] += model.get_weights()[i] / sum(num_data) * num_data[c]\n",
    "        \n",
    "        num_data[c] += add_data[c]\n",
    "        if r==rnd-2 and c!=0:\n",
    "            num_data[c]+=10\n",
    "    global_weight = copy.deepcopy(weight_list)\n",
    "\n",
    "    \n",
    "    global_model = build_model()\n",
    "    global_model.compile(optimizer='adam',\n",
    "              loss=tf.keras.losses.SparseCategoricalCrossentropy(from_logits=True),\n",
    "              metrics=['accuracy'])\n",
    "    global_model.set_weights(global_weight)\n",
    "    test_loss, test_acc = global_model.evaluate(test_images,  test_labels, verbose=2)\n",
    "    print('\\nTest accuracy:', test_acc)\n",
    "    \n",
    "    eval_list.append(test_acc)\n",
    "    \n",
    "# output : rnd 수만큼의 eval 결과\n",
    "# 제안하는 실험\n",
    "rnd = 31\n",
    "num_class = 10\n",
    "eval_list = []\n",
    "num_data = [3000,800,800,800,800,800,800,800,800,800]# 10개 배열이고, 각 배열에 데이터 수 들어가있음\n",
    "add_data = [1,110,110,110,110,110,110,110,110,110] # 최종적으로 4020이 되도록\n",
    "\n",
    "for r in range(rnd):\n",
    "    print(r,num_data)\n",
    "    for c in range(num_class):\n",
    "        # 만약 난수로 초기화되면 동일한 난수값으로 고정\n",
    "        model = build_model()\n",
    "        if r!=0:\n",
    "            model.set_weights(global_weight)\n",
    "        if c==0:\n",
    "            weight_list = [[],[],[],[]]\n",
    "        model.compile(optimizer='adam',\n",
    "              loss=tf.keras.losses.SparseCategoricalCrossentropy(from_logits=True),\n",
    "              metrics=['accuracy'])\n",
    "        model.fit(datas[c][:num_data[c]], labels[c][:num_data[c]], epochs=20,shuffle=True,verbose = 0)\n",
    "        for i in range(4):\n",
    "            if c==0:\n",
    "                weight_list[i] = model.get_weights()[i] / sum(num_data) * num_data[c]\n",
    "            else:\n",
    "                weight_list[i] += model.get_weights()[i] / sum(num_data) * num_data[c]\n",
    "        \n",
    "        num_data[c] += add_data[c]\n",
    "        if r==rnd-2 and c!=0:\n",
    "            num_data[c]+=10\n",
    "    global_weight = copy.deepcopy(weight_list)\n",
    "\n",
    "    \n",
    "    global_model = build_model()\n",
    "    global_model.compile(optimizer='adam',\n",
    "              loss=tf.keras.losses.SparseCategoricalCrossentropy(from_logits=True),\n",
    "              metrics=['accuracy'])\n",
    "    global_model.set_weights(global_weight)\n",
    "    test_loss, test_acc = global_model.evaluate(test_images,  test_labels, verbose=2)\n",
    "    print('\\nTest accuracy:', test_acc)\n",
    "    \n",
    "    eval_list.append(test_acc)\n",
    "    \n",
    "# output : rnd 수만큼의 eval 결과\n",
    "%history"
   ]
  },
  {
   "cell_type": "markdown",
   "metadata": {
    "id": "v-PyD1SYE28q"
   },
   "source": [
    "### Prediction"
   ]
  },
  {
   "cell_type": "code",
   "execution_count": 18,
   "metadata": {
    "execution": {
     "iopub.execute_input": "2021-10-09T00:37:36.167730Z",
     "iopub.status.busy": "2021-10-09T00:37:36.167212Z",
     "iopub.status.idle": "2021-10-09T00:37:36.180366Z",
     "shell.execute_reply": "2021-10-09T00:37:36.179971Z"
    },
    "id": "DnfNA0CrQLSD"
   },
   "outputs": [],
   "source": [
    "probability_model = tf.keras.Sequential([model, \n",
    "                                         tf.keras.layers.Softmax()])"
   ]
  },
  {
   "cell_type": "code",
   "execution_count": 19,
   "metadata": {
    "execution": {
     "iopub.execute_input": "2021-10-09T00:37:36.183891Z",
     "iopub.status.busy": "2021-10-09T00:37:36.183346Z",
     "iopub.status.idle": "2021-10-09T00:37:36.517176Z",
     "shell.execute_reply": "2021-10-09T00:37:36.517584Z"
    },
    "id": "Gl91RPhdCaXI"
   },
   "outputs": [],
   "source": [
    "predictions = probability_model.predict(test_images)"
   ]
  },
  {
   "cell_type": "markdown",
   "metadata": {
    "id": "x9Kk1voUCaXJ"
   },
   "source": [
    "여기서는 테스트 세트에 있는 각 이미지의 레이블을 예측했습니다. 첫 번째 예측을 확인해 보죠:"
   ]
  },
  {
   "cell_type": "code",
   "execution_count": 20,
   "metadata": {
    "execution": {
     "iopub.execute_input": "2021-10-09T00:37:36.522707Z",
     "iopub.status.busy": "2021-10-09T00:37:36.521976Z",
     "iopub.status.idle": "2021-10-09T00:37:36.524636Z",
     "shell.execute_reply": "2021-10-09T00:37:36.524984Z"
    },
    "id": "3DmJEUinCaXK"
   },
   "outputs": [
    {
     "data": {
      "text/plain": [
       "array([9.2266013e-08, 4.1849513e-11, 4.7670059e-09, 5.2083129e-12,\n",
       "       1.2833117e-08, 1.8356493e-03, 3.5984229e-08, 1.1907237e-02,\n",
       "       2.9079965e-07, 9.8625678e-01], dtype=float32)"
      ]
     },
     "execution_count": 20,
     "metadata": {},
     "output_type": "execute_result"
    }
   ],
   "source": [
    "predictions[0]"
   ]
  },
  {
   "cell_type": "markdown",
   "metadata": {
    "id": "-hw1hgeSCaXN"
   },
   "source": [
    "이 예측은 10개의 숫자 배열로 나타납니다. 이 값은 10개의 옷 품목에 상응하는 모델의 신뢰도(confidence)를 나타냅니다. 가장 높은 신뢰도를 가진 레이블을 찾아보죠:"
   ]
  },
  {
   "cell_type": "code",
   "execution_count": 21,
   "metadata": {
    "execution": {
     "iopub.execute_input": "2021-10-09T00:37:36.529353Z",
     "iopub.status.busy": "2021-10-09T00:37:36.528635Z",
     "iopub.status.idle": "2021-10-09T00:37:36.531474Z",
     "shell.execute_reply": "2021-10-09T00:37:36.530989Z"
    },
    "id": "qsqenuPnCaXO"
   },
   "outputs": [
    {
     "data": {
      "text/plain": [
       "9"
      ]
     },
     "execution_count": 21,
     "metadata": {},
     "output_type": "execute_result"
    }
   ],
   "source": [
    "np.argmax(predictions[0])"
   ]
  },
  {
   "cell_type": "markdown",
   "metadata": {
    "id": "E51yS7iCCaXO"
   },
   "source": [
    "모델은 이 이미지가 앵클 부츠(`class_name[9]`)라고 가장 확신하고 있습니다. 이 값이 맞는지 테스트 레이블을 확인해 보죠:"
   ]
  },
  {
   "cell_type": "code",
   "execution_count": 22,
   "metadata": {
    "execution": {
     "iopub.execute_input": "2021-10-09T00:37:36.535822Z",
     "iopub.status.busy": "2021-10-09T00:37:36.535087Z",
     "iopub.status.idle": "2021-10-09T00:37:36.537594Z",
     "shell.execute_reply": "2021-10-09T00:37:36.537953Z"
    },
    "id": "Sd7Pgsu6CaXP"
   },
   "outputs": [
    {
     "data": {
      "text/plain": [
       "9"
      ]
     },
     "execution_count": 22,
     "metadata": {},
     "output_type": "execute_result"
    }
   ],
   "source": [
    "test_labels[0]"
   ]
  },
  {
   "cell_type": "markdown",
   "metadata": {
    "id": "ygh2yYC972ne"
   },
   "source": [
    "10개 클래스에 대한 예측을 모두 그래프로 표현해 보겠습니다:"
   ]
  },
  {
   "cell_type": "code",
   "execution_count": 23,
   "metadata": {
    "execution": {
     "iopub.execute_input": "2021-10-09T00:37:36.544429Z",
     "iopub.status.busy": "2021-10-09T00:37:36.543805Z",
     "iopub.status.idle": "2021-10-09T00:37:36.546023Z",
     "shell.execute_reply": "2021-10-09T00:37:36.545602Z"
    },
    "id": "DvYmmrpIy6Y1"
   },
   "outputs": [],
   "source": [
    "def plot_image(i, predictions_array, true_label, img):\n",
    "  true_label, img = true_label[i], img[i]\n",
    "  plt.grid(False)\n",
    "  plt.xticks([])\n",
    "  plt.yticks([])\n",
    "\n",
    "  plt.imshow(img, cmap=plt.cm.binary)\n",
    "\n",
    "  predicted_label = np.argmax(predictions_array)\n",
    "  if predicted_label == true_label:\n",
    "    color = 'blue'\n",
    "  else:\n",
    "    color = 'red'\n",
    "\n",
    "  plt.xlabel(\"{} {:2.0f}% ({})\".format(class_names[predicted_label],\n",
    "                                100*np.max(predictions_array),\n",
    "                                class_names[true_label]),\n",
    "                                color=color)\n",
    "\n",
    "def plot_value_array(i, predictions_array, true_label):\n",
    "  true_label = true_label[i]\n",
    "  plt.grid(False)\n",
    "  plt.xticks(range(10))\n",
    "  plt.yticks([])\n",
    "  thisplot = plt.bar(range(10), predictions_array, color=\"#777777\")\n",
    "  plt.ylim([0, 1])\n",
    "  predicted_label = np.argmax(predictions_array)\n",
    "\n",
    "  thisplot[predicted_label].set_color('red')\n",
    "  thisplot[true_label].set_color('blue')"
   ]
  },
  {
   "cell_type": "markdown",
   "metadata": {
    "id": "Zh9yABaME29S"
   },
   "source": [
    "### 예측 확인\n",
    "\n",
    "훈련된 모델을 사용하여 일부 이미지에 대한 예측을 수행할 수 있습니다."
   ]
  },
  {
   "cell_type": "markdown",
   "metadata": {
    "id": "d4Ov9OFDMmOD"
   },
   "source": [
    "0번째 원소의 이미지, 예측, 신뢰도 점수 배열을 확인해 보겠습니다."
   ]
  },
  {
   "cell_type": "code",
   "execution_count": 24,
   "metadata": {
    "execution": {
     "iopub.execute_input": "2021-10-09T00:37:36.566345Z",
     "iopub.status.busy": "2021-10-09T00:37:36.565751Z",
     "iopub.status.idle": "2021-10-09T00:37:36.658377Z",
     "shell.execute_reply": "2021-10-09T00:37:36.657973Z"
    },
    "id": "HV5jw-5HwSmO"
   },
   "outputs": [
    {
     "data": {
      "image/png": "[encoded data removed]",
      "text/plain": [
       "<Figure size 432x216 with 2 Axes>"
      ]
     },
     "metadata": {
      "needs_background": "light"
     },
     "output_type": "display_data"
    }
   ],
   "source": [
    "i = 0\n",
    "plt.figure(figsize=(6,3))\n",
    "plt.subplot(1,2,1)\n",
    "plot_image(i, predictions[i], test_labels, test_images)\n",
    "plt.subplot(1,2,2)\n",
    "plot_value_array(i, predictions[i],  test_labels)\n",
    "plt.show()"
   ]
  },
  {
   "cell_type": "code",
   "execution_count": 25,
   "metadata": {
    "execution": {
     "iopub.execute_input": "2021-10-09T00:37:36.678220Z",
     "iopub.status.busy": "2021-10-09T00:37:36.673370Z",
     "iopub.status.idle": "2021-10-09T00:37:36.768534Z",
     "shell.execute_reply": "2021-10-09T00:37:36.768941Z"
    },
    "id": "Ko-uzOufSCSe"
   },
   "outputs": [
    {
     "data": {
      "image/png": "[encoded data removed]",
      "text/plain": [
       "<Figure size 432x216 with 2 Axes>"
      ]
     },
     "metadata": {
      "needs_background": "light"
     },
     "output_type": "display_data"
    }
   ],
   "source": [
    "i = 12\n",
    "plt.figure(figsize=(6,3))\n",
    "plt.subplot(1,2,1)\n",
    "plot_image(i, predictions[i], test_labels, test_images)\n",
    "plt.subplot(1,2,2)\n",
    "plot_value_array(i, predictions[i],  test_labels)\n",
    "plt.show()"
   ]
  },
  {
   "cell_type": "markdown",
   "metadata": {
    "id": "kgdvGD52CaXR"
   },
   "source": [
    "몇 개의 이미지의 예측을 출력해 보죠. 올바르게 예측된 레이블은 파란색이고 잘못 예측된 레이블은 빨강색입니다. 숫자는 예측 레이블의 신뢰도 퍼센트(100점 만점)입니다. 신뢰도 점수가 높을 때도 잘못 예측할 수 있습니다."
   ]
  },
  {
   "cell_type": "code",
   "execution_count": 26,
   "metadata": {
    "execution": {
     "iopub.execute_input": "2021-10-09T00:37:36.818460Z",
     "iopub.status.busy": "2021-10-09T00:37:36.803865Z",
     "iopub.status.idle": "2021-10-09T00:37:38.507593Z",
     "shell.execute_reply": "2021-10-09T00:37:38.507977Z"
    },
    "id": "hQlnbqaw2Qu_"
   },
   "outputs": [
    {
     "data": {
      "image/png": "[encoded data removed]",
      "text/plain": [
       "<Figure size 864x720 with 30 Axes>"
      ]
     },
     "metadata": {
      "needs_background": "light"
     },
     "output_type": "display_data"
    }
   ],
   "source": [
    "# Plot the first X test images, their predicted labels, and the true labels.\n",
    "# Color correct predictions in blue and incorrect predictions in red.\n",
    "num_rows = 5\n",
    "num_cols = 3\n",
    "num_images = num_rows*num_cols\n",
    "plt.figure(figsize=(2*2*num_cols, 2*num_rows))\n",
    "for i in range(num_images):\n",
    "  plt.subplot(num_rows, 2*num_cols, 2*i+1)\n",
    "  plot_image(i, predictions[i], test_labels, test_images)\n",
    "  plt.subplot(num_rows, 2*num_cols, 2*i+2)\n",
    "  plot_value_array(i, predictions[i], test_labels)\n",
    "plt.tight_layout()\n",
    "plt.show()"
   ]
  },
  {
   "cell_type": "markdown",
   "metadata": {
    "id": "R32zteKHCaXT"
   },
   "source": [
    "## 훈련된 모델 사용하기\n",
    "\n",
    "마지막으로 훈련된 모델을 사용하여 한 이미지에 대한 예측을 만듭니다."
   ]
  },
  {
   "cell_type": "code",
   "execution_count": 27,
   "metadata": {
    "execution": {
     "iopub.execute_input": "2021-10-09T00:37:38.512157Z",
     "iopub.status.busy": "2021-10-09T00:37:38.511582Z",
     "iopub.status.idle": "2021-10-09T00:37:38.513998Z",
     "shell.execute_reply": "2021-10-09T00:37:38.513554Z"
    },
    "id": "yRJ7JU7JCaXT"
   },
   "outputs": [
    {
     "name": "stdout",
     "output_type": "stream",
     "text": [
      "(28, 28)\n"
     ]
    }
   ],
   "source": [
    "# Grab an image from the test dataset.\n",
    "img = test_images[1]\n",
    "\n",
    "print(img.shape)"
   ]
  },
  {
   "cell_type": "markdown",
   "metadata": {
    "id": "vz3bVp21CaXV"
   },
   "source": [
    "`tf.keras` 모델은 한 번에 샘플의 묶음 또는 *배치*(batch)로 예측을 만드는데 최적화되어 있습니다. 하나의 이미지를 사용할 때에도 2차원 배열로 만들어야 합니다:"
   ]
  },
  {
   "cell_type": "code",
   "execution_count": 28,
   "metadata": {
    "execution": {
     "iopub.execute_input": "2021-10-09T00:37:38.517877Z",
     "iopub.status.busy": "2021-10-09T00:37:38.517310Z",
     "iopub.status.idle": "2021-10-09T00:37:38.519150Z",
     "shell.execute_reply": "2021-10-09T00:37:38.519501Z"
    },
    "id": "lDFh5yF_CaXW"
   },
   "outputs": [
    {
     "name": "stdout",
     "output_type": "stream",
     "text": [
      "(1, 28, 28)\n"
     ]
    }
   ],
   "source": [
    "# Add the image to a batch where it's the only member.\n",
    "img = (np.expand_dims(img,0))\n",
    "\n",
    "print(img.shape)"
   ]
  },
  {
   "cell_type": "markdown",
   "metadata": {
    "id": "EQ5wLTkcCaXY"
   },
   "source": [
    "이제 이 이미지의 예측을 만듭니다:"
   ]
  },
  {
   "cell_type": "code",
   "execution_count": 29,
   "metadata": {
    "execution": {
     "iopub.execute_input": "2021-10-09T00:37:38.523771Z",
     "iopub.status.busy": "2021-10-09T00:37:38.523232Z",
     "iopub.status.idle": "2021-10-09T00:37:38.556846Z",
     "shell.execute_reply": "2021-10-09T00:37:38.556341Z"
    },
    "id": "o_rzNSdrCaXY"
   },
   "outputs": [
    {
     "name": "stdout",
     "output_type": "stream",
     "text": [
      "[[3.6173755e-05 3.2209617e-14 9.9866760e-01 1.6559891e-11 1.0769934e-03\n",
      "  1.6140698e-13 2.1918291e-04 3.4505306e-21 3.6745976e-10 1.0840150e-14]]\n"
     ]
    }
   ],
   "source": [
    "predictions_single = probability_model.predict(img)\n",
    "\n",
    "print(predictions_single)"
   ]
  },
  {
   "cell_type": "code",
   "execution_count": 30,
   "metadata": {
    "execution": {
     "iopub.execute_input": "2021-10-09T00:37:38.597375Z",
     "iopub.status.busy": "2021-10-09T00:37:38.596804Z",
     "iopub.status.idle": "2021-10-09T00:37:38.650107Z",
     "shell.execute_reply": "2021-10-09T00:37:38.649667Z"
    },
    "id": "6Ai-cpLjO-3A"
   },
   "outputs": [
    {
     "data": {
      "image/png": "[encoded data removed]",
      "text/plain": [
       "<Figure size 432x288 with 1 Axes>"
      ]
     },
     "metadata": {
      "needs_background": "light"
     },
     "output_type": "display_data"
    }
   ],
   "source": [
    "plot_value_array(1, predictions_single[0], test_labels)\n",
    "_ = plt.xticks(range(10), class_names, rotation=45)\n",
    "plt.show()"
   ]
  },
  {
   "cell_type": "markdown",
   "metadata": {
    "id": "cU1Y2OAMCaXb"
   },
   "source": [
    "`tf.keras.Model.predict`는 데이터 배치의 각 이미지에 대해 하나의 목록씩 목록의 목록을 반환합니다. 배치에서 (유일한) 이미지에 대한 예측을 가져옵니다."
   ]
  },
  {
   "cell_type": "code",
   "execution_count": 31,
   "metadata": {
    "execution": {
     "iopub.execute_input": "2021-10-09T00:37:38.654503Z",
     "iopub.status.busy": "2021-10-09T00:37:38.653890Z",
     "iopub.status.idle": "2021-10-09T00:37:38.656449Z",
     "shell.execute_reply": "2021-10-09T00:37:38.656801Z"
    },
    "id": "2tRmdq_8CaXb"
   },
   "outputs": [
    {
     "data": {
      "text/plain": [
       "2"
      ]
     },
     "execution_count": 31,
     "metadata": {},
     "output_type": "execute_result"
    }
   ],
   "source": [
    "np.argmax(predictions_single[0])"
   ]
  },
  {
   "cell_type": "markdown",
   "metadata": {
    "id": "YFc2HbEVCaXd"
   },
   "source": [
    "예상과 같이 모델이 레이블을 예측합니다."
   ]
  }
 ],
 "metadata": {
  "colab": {
   "collapsed_sections": [],
   "name": "classification.ipynb",
   "toc_visible": true
  },
  "kernelspec": {
   "display_name": "gm",
   "language": "python",
   "name": "gm"
  },
  "language_info": {
   "codemirror_mode": {
    "name": "ipython",
    "version": 3
   },
   "file_extension": ".py",
   "mimetype": "text/x-python",
   "name": "python",
   "nbconvert_exporter": "python",
   "pygments_lexer": "ipython3",
   "version": "3.7.0"
  }
 },
 "nbformat": 4,
 "nbformat_minor": 1
}
